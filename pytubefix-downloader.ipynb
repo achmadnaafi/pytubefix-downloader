{
 "cells": [
  {
   "cell_type": "code",
   "execution_count": 2,
   "id": "9d51c7e5-4859-4e14-86f9-3cd5f89f94d6",
   "metadata": {},
   "outputs": [
    {
     "name": "stdin",
     "output_type": "stream",
     "text": [
      "Masukkan link YouTube:  https://www.youtube.com/watch?v=Kmt71_8fTk8\n"
     ]
    },
    {
     "name": "stdout",
     "output_type": "stream",
     "text": [
      "\n",
      "Judul Video: Belajar Javascript Dasar (Tutorial Lengkap)\n",
      "\n",
      "=== Daftar Stream Tersedia ===\n",
      "1. 1080p 60fps - Adaptive\n",
      "2. 720p 60fps - Adaptive\n",
      "3. 360p 30fps - Adaptive\n",
      "4. 360p 30fps - Progressive\n",
      "5. 144p 30fps - Adaptive\n"
     ]
    },
    {
     "name": "stdin",
     "output_type": "stream",
     "text": [
      "\n",
      "Pilih nomor stream:  1\n",
      "Masukkan nama file output (tanpa ekstensi):  Belajar Javascript\n"
     ]
    },
    {
     "name": "stdout",
     "output_type": "stream",
     "text": [
      "\n",
      "🎬 Mendownload: <Stream: itag=\"299\" mime_type=\"video/mp4\" res=\"1080p\" fps=\"60fps\" vcodec=\"avc1.64002a\" progressive=\"False\" sabr=\"False\" type=\"video\">\n",
      " ↳ |██████████████████████████████████████████████████████████████████| 100.0%\n",
      "✅ Video selesai di-download!\n",
      "\n",
      "🎵 Video tanpa audio, mendownload audio terbaik...\n",
      " ↳ |██████████████████████████████████████████████████████████████████| 100.0%\n",
      "🔄 Menggabungkan video + audio dengan ffmpeg...\n",
      "\n",
      "\n",
      "🎉 Selesai! File gabungan: Belajar Javascript_final.mp4\n"
     ]
    },
    {
     "name": "stdin",
     "output_type": "stream",
     "text": [
      "\n",
      "🧹 Hapus file sementara (video tanpa audio & audio)? [Y/n]:  y\n"
     ]
    },
    {
     "name": "stdout",
     "output_type": "stream",
     "text": [
      "✅ File sementara sudah dihapus.\n"
     ]
    }
   ],
   "source": [
    "from pytubefix import YouTube\n",
    "from pytubefix.cli import on_progress\n",
    "import subprocess\n",
    "import os\n",
    "\n",
    "# Input link YouTube\n",
    "url = input(\"Masukkan link YouTube: \")\n",
    "yt = YouTube(url, on_progress_callback=on_progress)\n",
    "\n",
    "print(f\"\\nJudul Video: {yt.title}\")\n",
    "print(\"\\n=== Daftar Stream Tersedia ===\")\n",
    "streams = yt.streams.filter(file_extension=\"mp4\").order_by(\"resolution\").desc()\n",
    "\n",
    "# Tampilkan daftar dengan nomor\n",
    "for i, stream in enumerate(streams, start=1):\n",
    "    if stream.resolution:  # Video\n",
    "        print(f\"{i}. {stream.resolution} {stream.fps}fps - {'Progressive' if stream.is_progressive else 'Adaptive'}\")\n",
    "    else:  # Audio only\n",
    "        print(f\"{i}. Audio {stream.abr}\")\n",
    "\n",
    "# Pilih stream\n",
    "choice = int(input(\"\\nPilih nomor stream: \")) - 1\n",
    "stream = streams[choice]\n",
    "\n",
    "# Input nama file output\n",
    "filename = input(\"Masukkan nama file output (tanpa ekstensi): \")\n",
    "\n",
    "# Tentukan ekstensi\n",
    "ext = \".mp4\" if stream.type == \"video\" else \".m4a\"\n",
    "\n",
    "# Download video\n",
    "print(f\"\\n🎬 Mendownload: {stream}\")\n",
    "video_path = stream.download(filename=filename + ext)\n",
    "\n",
    "print(\"\\n✅ Video selesai di-download!\")\n",
    "\n",
    "# Kalau adaptive (video tanpa audio), otomatis download audio terbaik + gabungkan\n",
    "if stream.is_progressive is False and stream.type == \"video\":\n",
    "    print(\"\\n🎵 Video tanpa audio, mendownload audio terbaik...\")\n",
    "    audio_stream = yt.streams.filter(only_audio=True, file_extension=\"mp4\").order_by(\"abr\").desc().first()\n",
    "    audio_path = audio_stream.download(filename=filename + \"_audio.m4a\")\n",
    "    \n",
    "    output_name = filename + \"_final.mp4\"\n",
    "    \n",
    "    print(\"\\n🔄 Menggabungkan video + audio dengan ffmpeg...\\n\")\n",
    "    cmd = [\n",
    "        # Ubah Sesuai PATH ffmpeg di PC/Laptop Kalian\n",
    "        r\"C:\\Users\\achma\\AppData\\Local\\Microsoft\\WinGet\\Packages\\Gyan.FFmpeg_Microsoft.Winget.Source_8wekyb3d8bbwe\\ffmpeg-8.0-full_build\\bin\\ffmpeg.exe\",\n",
    "        \"-y\",\n",
    "        \"-i\", video_path,\n",
    "        \"-i\", audio_path,\n",
    "        \"-c:v\", \"copy\",\n",
    "        \"-c:a\", \"aac\",\n",
    "        output_name\n",
    "    ]\n",
    "    # tampilkan output ffmpeg (progress bar, dll)\n",
    "    subprocess.run(cmd, check=True, text=True)\n",
    "    \n",
    "    print(f\"\\n🎉 Selesai! File gabungan: {output_name}\")\n",
    "    \n",
    "    # Tanya user apakah file sementara mau dihapus\n",
    "    jawab = input(\"\\n🧹 Hapus file sementara (video tanpa audio & audio)? [Y/n]: \").strip().lower()\n",
    "    if jawab in [\"\", \"y\", \"yes\"]:\n",
    "        if os.path.exists(video_path):\n",
    "            os.remove(video_path)\n",
    "        if os.path.exists(audio_path):\n",
    "            os.remove(audio_path)\n",
    "        print(\"✅ File sementara sudah dihapus.\")\n",
    "    else:\n",
    "        print(\"ℹ️ File sementara tetap disimpan.\")\n",
    "else:\n",
    "    print(\"\\n🎉 File sudah lengkap (video+audio dalam satu file).\")\n"
   ]
  },
  {
   "cell_type": "code",
   "execution_count": null,
   "id": "ee30d169-51d3-4120-82c1-20ad1657657d",
   "metadata": {},
   "outputs": [],
   "source": []
  }
 ],
 "metadata": {
  "kernelspec": {
   "display_name": "Python 3 (ipykernel)",
   "language": "python",
   "name": "python3"
  },
  "language_info": {
   "codemirror_mode": {
    "name": "ipython",
    "version": 3
   },
   "file_extension": ".py",
   "mimetype": "text/x-python",
   "name": "python",
   "nbconvert_exporter": "python",
   "pygments_lexer": "ipython3",
   "version": "3.12.6"
  }
 },
 "nbformat": 4,
 "nbformat_minor": 5
}
